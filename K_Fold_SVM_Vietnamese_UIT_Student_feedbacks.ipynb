{
  "nbformat": 4,
  "nbformat_minor": 0,
  "metadata": {
    "colab": {
      "name": "K-Fold SVM Vietnamese UIT Student feedbacks",
      "provenance": []
    },
    "kernelspec": {
      "name": "python3",
      "display_name": "Python 3"
    },
    "language_info": {
      "name": "python"
    }
  },
  "cells": [
    {
      "cell_type": "code",
      "source": [
        "from google.colab import drive\n",
        "drive.mount('/content/drive')"
      ],
      "metadata": {
        "colab": {
          "base_uri": "https://localhost:8080/"
        },
        "id": "60gHezabibbo",
        "outputId": "be18f6ad-9de2-409a-8d4f-4222df8d7c40"
      },
      "execution_count": 2,
      "outputs": [
        {
          "output_type": "stream",
          "name": "stdout",
          "text": [
            "Mounted at /content/drive\n"
          ]
        }
      ]
    },
    {
      "cell_type": "code",
      "source": [
        "pip install underthesea"
      ],
      "metadata": {
        "colab": {
          "base_uri": "https://localhost:8080/"
        },
        "id": "FQNUuHwnk345",
        "outputId": "180840c1-c765-40d1-a2ab-8b4bd1ac457d"
      },
      "execution_count": 9,
      "outputs": [
        {
          "output_type": "stream",
          "name": "stdout",
          "text": [
            "Collecting underthesea\n",
            "  Downloading underthesea-1.3.4-py3-none-any.whl (7.6 MB)\n",
            "\u001b[K     |████████████████████████████████| 7.6 MB 5.3 MB/s \n",
            "\u001b[?25hRequirement already satisfied: nltk in /usr/local/lib/python3.7/dist-packages (from underthesea) (3.2.5)\n",
            "Collecting python-crfsuite>=0.9.6\n",
            "  Downloading python_crfsuite-0.9.8-cp37-cp37m-manylinux_2_17_x86_64.manylinux2014_x86_64.whl (965 kB)\n",
            "\u001b[K     |████████████████████████████████| 965 kB 44.2 MB/s \n",
            "\u001b[?25hRequirement already satisfied: scikit-learn in /usr/local/lib/python3.7/dist-packages (from underthesea) (1.0.2)\n",
            "Collecting unidecode\n",
            "  Downloading Unidecode-1.3.4-py3-none-any.whl (235 kB)\n",
            "\u001b[K     |████████████████████████████████| 235 kB 47.3 MB/s \n",
            "\u001b[?25hRequirement already satisfied: PyYAML in /usr/local/lib/python3.7/dist-packages (from underthesea) (3.13)\n",
            "Requirement already satisfied: Click>=6.0 in /usr/local/lib/python3.7/dist-packages (from underthesea) (7.1.2)\n",
            "Requirement already satisfied: joblib in /usr/local/lib/python3.7/dist-packages (from underthesea) (1.1.0)\n",
            "Collecting underthesea-core==0.0.4_alpha.10\n",
            "  Downloading underthesea_core-0.0.4_alpha.10-cp37-cp37m-manylinux2010_x86_64.whl (581 kB)\n",
            "\u001b[K     |████████████████████████████████| 581 kB 53.5 MB/s \n",
            "\u001b[?25hRequirement already satisfied: tqdm in /usr/local/lib/python3.7/dist-packages (from underthesea) (4.64.0)\n",
            "Requirement already satisfied: requests in /usr/local/lib/python3.7/dist-packages (from underthesea) (2.23.0)\n",
            "Requirement already satisfied: six in /usr/local/lib/python3.7/dist-packages (from nltk->underthesea) (1.15.0)\n",
            "Requirement already satisfied: urllib3!=1.25.0,!=1.25.1,<1.26,>=1.21.1 in /usr/local/lib/python3.7/dist-packages (from requests->underthesea) (1.24.3)\n",
            "Requirement already satisfied: certifi>=2017.4.17 in /usr/local/lib/python3.7/dist-packages (from requests->underthesea) (2021.10.8)\n",
            "Requirement already satisfied: chardet<4,>=3.0.2 in /usr/local/lib/python3.7/dist-packages (from requests->underthesea) (3.0.4)\n",
            "Requirement already satisfied: idna<3,>=2.5 in /usr/local/lib/python3.7/dist-packages (from requests->underthesea) (2.10)\n",
            "Requirement already satisfied: threadpoolctl>=2.0.0 in /usr/local/lib/python3.7/dist-packages (from scikit-learn->underthesea) (3.1.0)\n",
            "Requirement already satisfied: scipy>=1.1.0 in /usr/local/lib/python3.7/dist-packages (from scikit-learn->underthesea) (1.4.1)\n",
            "Requirement already satisfied: numpy>=1.14.6 in /usr/local/lib/python3.7/dist-packages (from scikit-learn->underthesea) (1.21.6)\n",
            "Installing collected packages: unidecode, underthesea-core, python-crfsuite, underthesea\n",
            "Successfully installed python-crfsuite-0.9.8 underthesea-1.3.4 underthesea-core-0.0.4a10 unidecode-1.3.4\n"
          ]
        }
      ]
    },
    {
      "cell_type": "code",
      "source": [
        "import pandas as pd\n",
        "from sklearn.feature_extraction.text import CountVectorizer\n",
        "from underthesea import sent_tokenize,word_tokenize\n",
        "from itertools import chain\n",
        "from sklearn.svm import SVC\n",
        "from sklearn.model_selection import GridSearchCV\n",
        "import numpy as np\n",
        "from sklearn.metrics import *\n",
        "from sklearn.utils.class_weight import compute_class_weight\n",
        "import string\n",
        "import re\n",
        "from os.path import join"
      ],
      "metadata": {
        "id": "hdlKGAoIkREo"
      },
      "execution_count": 183,
      "outputs": []
    },
    {
      "cell_type": "code",
      "source": [
        "root_data=\"/content/drive/MyDrive/vietnamese_students_feedback/preproccesd_data\""
      ],
      "metadata": {
        "id": "Xj9rHRalhmBV"
      },
      "execution_count": 5,
      "outputs": []
    },
    {
      "cell_type": "code",
      "source": [
        "train=pd.read_csv(f'{root_data}/train.csv')"
      ],
      "metadata": {
        "id": "0w1W6b86kChI"
      },
      "execution_count": 6,
      "outputs": []
    },
    {
      "cell_type": "code",
      "source": [
        "train"
      ],
      "metadata": {
        "colab": {
          "base_uri": "https://localhost:8080/",
          "height": 419
        },
        "id": "Yvht6g__kXKB",
        "outputId": "c564c84b-3bb2-4e30-fa06-e800a3a419e6"
      },
      "execution_count": 7,
      "outputs": [
        {
          "output_type": "execute_result",
          "data": {
            "text/plain": [
              "                                                sentence  sentiment  topic  \\\n",
              "0                                 giọng cô nghe dễ ngủ !          1      0   \n",
              "1      phòng thực hành nhỏ không đủ máy cho sinh viên...          0      2   \n",
              "2                           nội dung học cần cải thiện .          0      1   \n",
              "3                           làm nhiều bài kiểm tra quá .          0      1   \n",
              "4      phần thi nói giữa các lớp không thống nhất về ...          0      1   \n",
              "...                                                  ...        ...    ...   \n",
              "11421  cô đưa ra nhiều hướng giải quyết khi sinh viên...          2      0   \n",
              "11422  em nghĩ nội dung thực hành nên gần với đồ án h...          0      1   \n",
              "11423                       luôn nhiệt tình và tận tâm .          2      0   \n",
              "11424  nó rất rập khuôn và không thể khiến cho sinh v...          0      1   \n",
              "11425  giảng viên giảng dạy nhiệt tình , truyền đạt t...          2      0   \n",
              "\n",
              "                                        cleaned_sentence  seq_len  \n",
              "0                                   giọng cô nghe dễ ngủ        5  \n",
              "1      phòng thực hành nhỏ không đủ máy cho sinh viên...       14  \n",
              "2                             nội dung học cần cải thiện        6  \n",
              "3                             làm nhiều bài kiểm tra quá        6  \n",
              "4      phần thi nói giữa các lớp không thống nhất về ...       15  \n",
              "...                                                  ...      ...  \n",
              "11421  cô đưa ra nhiều hướng giải quyết khi sinh viên...       16  \n",
              "11422   em nghĩ nội dung thực hành nên gần với đồ án hơn       12  \n",
              "11423                         luôn nhiệt tình và tận tâm        6  \n",
              "11424  nó rất rập khuôn và không thể khiến cho sinh v...       15  \n",
              "11425     giảng viên giảng dạy nhiệt tình truyền đạt tốt        9  \n",
              "\n",
              "[11426 rows x 5 columns]"
            ],
            "text/html": [
              "\n",
              "  <div id=\"df-df0159bb-b665-422c-84a0-28fe41a10571\">\n",
              "    <div class=\"colab-df-container\">\n",
              "      <div>\n",
              "<style scoped>\n",
              "    .dataframe tbody tr th:only-of-type {\n",
              "        vertical-align: middle;\n",
              "    }\n",
              "\n",
              "    .dataframe tbody tr th {\n",
              "        vertical-align: top;\n",
              "    }\n",
              "\n",
              "    .dataframe thead th {\n",
              "        text-align: right;\n",
              "    }\n",
              "</style>\n",
              "<table border=\"1\" class=\"dataframe\">\n",
              "  <thead>\n",
              "    <tr style=\"text-align: right;\">\n",
              "      <th></th>\n",
              "      <th>sentence</th>\n",
              "      <th>sentiment</th>\n",
              "      <th>topic</th>\n",
              "      <th>cleaned_sentence</th>\n",
              "      <th>seq_len</th>\n",
              "    </tr>\n",
              "  </thead>\n",
              "  <tbody>\n",
              "    <tr>\n",
              "      <th>0</th>\n",
              "      <td>giọng cô nghe dễ ngủ !</td>\n",
              "      <td>1</td>\n",
              "      <td>0</td>\n",
              "      <td>giọng cô nghe dễ ngủ</td>\n",
              "      <td>5</td>\n",
              "    </tr>\n",
              "    <tr>\n",
              "      <th>1</th>\n",
              "      <td>phòng thực hành nhỏ không đủ máy cho sinh viên...</td>\n",
              "      <td>0</td>\n",
              "      <td>2</td>\n",
              "      <td>phòng thực hành nhỏ không đủ máy cho sinh viên...</td>\n",
              "      <td>14</td>\n",
              "    </tr>\n",
              "    <tr>\n",
              "      <th>2</th>\n",
              "      <td>nội dung học cần cải thiện .</td>\n",
              "      <td>0</td>\n",
              "      <td>1</td>\n",
              "      <td>nội dung học cần cải thiện</td>\n",
              "      <td>6</td>\n",
              "    </tr>\n",
              "    <tr>\n",
              "      <th>3</th>\n",
              "      <td>làm nhiều bài kiểm tra quá .</td>\n",
              "      <td>0</td>\n",
              "      <td>1</td>\n",
              "      <td>làm nhiều bài kiểm tra quá</td>\n",
              "      <td>6</td>\n",
              "    </tr>\n",
              "    <tr>\n",
              "      <th>4</th>\n",
              "      <td>phần thi nói giữa các lớp không thống nhất về ...</td>\n",
              "      <td>0</td>\n",
              "      <td>1</td>\n",
              "      <td>phần thi nói giữa các lớp không thống nhất về ...</td>\n",
              "      <td>15</td>\n",
              "    </tr>\n",
              "    <tr>\n",
              "      <th>...</th>\n",
              "      <td>...</td>\n",
              "      <td>...</td>\n",
              "      <td>...</td>\n",
              "      <td>...</td>\n",
              "      <td>...</td>\n",
              "    </tr>\n",
              "    <tr>\n",
              "      <th>11421</th>\n",
              "      <td>cô đưa ra nhiều hướng giải quyết khi sinh viên...</td>\n",
              "      <td>2</td>\n",
              "      <td>0</td>\n",
              "      <td>cô đưa ra nhiều hướng giải quyết khi sinh viên...</td>\n",
              "      <td>16</td>\n",
              "    </tr>\n",
              "    <tr>\n",
              "      <th>11422</th>\n",
              "      <td>em nghĩ nội dung thực hành nên gần với đồ án h...</td>\n",
              "      <td>0</td>\n",
              "      <td>1</td>\n",
              "      <td>em nghĩ nội dung thực hành nên gần với đồ án hơn</td>\n",
              "      <td>12</td>\n",
              "    </tr>\n",
              "    <tr>\n",
              "      <th>11423</th>\n",
              "      <td>luôn nhiệt tình và tận tâm .</td>\n",
              "      <td>2</td>\n",
              "      <td>0</td>\n",
              "      <td>luôn nhiệt tình và tận tâm</td>\n",
              "      <td>6</td>\n",
              "    </tr>\n",
              "    <tr>\n",
              "      <th>11424</th>\n",
              "      <td>nó rất rập khuôn và không thể khiến cho sinh v...</td>\n",
              "      <td>0</td>\n",
              "      <td>1</td>\n",
              "      <td>nó rất rập khuôn và không thể khiến cho sinh v...</td>\n",
              "      <td>15</td>\n",
              "    </tr>\n",
              "    <tr>\n",
              "      <th>11425</th>\n",
              "      <td>giảng viên giảng dạy nhiệt tình , truyền đạt t...</td>\n",
              "      <td>2</td>\n",
              "      <td>0</td>\n",
              "      <td>giảng viên giảng dạy nhiệt tình truyền đạt tốt</td>\n",
              "      <td>9</td>\n",
              "    </tr>\n",
              "  </tbody>\n",
              "</table>\n",
              "<p>11426 rows × 5 columns</p>\n",
              "</div>\n",
              "      <button class=\"colab-df-convert\" onclick=\"convertToInteractive('df-df0159bb-b665-422c-84a0-28fe41a10571')\"\n",
              "              title=\"Convert this dataframe to an interactive table.\"\n",
              "              style=\"display:none;\">\n",
              "        \n",
              "  <svg xmlns=\"http://www.w3.org/2000/svg\" height=\"24px\"viewBox=\"0 0 24 24\"\n",
              "       width=\"24px\">\n",
              "    <path d=\"M0 0h24v24H0V0z\" fill=\"none\"/>\n",
              "    <path d=\"M18.56 5.44l.94 2.06.94-2.06 2.06-.94-2.06-.94-.94-2.06-.94 2.06-2.06.94zm-11 1L8.5 8.5l.94-2.06 2.06-.94-2.06-.94L8.5 2.5l-.94 2.06-2.06.94zm10 10l.94 2.06.94-2.06 2.06-.94-2.06-.94-.94-2.06-.94 2.06-2.06.94z\"/><path d=\"M17.41 7.96l-1.37-1.37c-.4-.4-.92-.59-1.43-.59-.52 0-1.04.2-1.43.59L10.3 9.45l-7.72 7.72c-.78.78-.78 2.05 0 2.83L4 21.41c.39.39.9.59 1.41.59.51 0 1.02-.2 1.41-.59l7.78-7.78 2.81-2.81c.8-.78.8-2.07 0-2.86zM5.41 20L4 18.59l7.72-7.72 1.47 1.35L5.41 20z\"/>\n",
              "  </svg>\n",
              "      </button>\n",
              "      \n",
              "  <style>\n",
              "    .colab-df-container {\n",
              "      display:flex;\n",
              "      flex-wrap:wrap;\n",
              "      gap: 12px;\n",
              "    }\n",
              "\n",
              "    .colab-df-convert {\n",
              "      background-color: #E8F0FE;\n",
              "      border: none;\n",
              "      border-radius: 50%;\n",
              "      cursor: pointer;\n",
              "      display: none;\n",
              "      fill: #1967D2;\n",
              "      height: 32px;\n",
              "      padding: 0 0 0 0;\n",
              "      width: 32px;\n",
              "    }\n",
              "\n",
              "    .colab-df-convert:hover {\n",
              "      background-color: #E2EBFA;\n",
              "      box-shadow: 0px 1px 2px rgba(60, 64, 67, 0.3), 0px 1px 3px 1px rgba(60, 64, 67, 0.15);\n",
              "      fill: #174EA6;\n",
              "    }\n",
              "\n",
              "    [theme=dark] .colab-df-convert {\n",
              "      background-color: #3B4455;\n",
              "      fill: #D2E3FC;\n",
              "    }\n",
              "\n",
              "    [theme=dark] .colab-df-convert:hover {\n",
              "      background-color: #434B5C;\n",
              "      box-shadow: 0px 1px 3px 1px rgba(0, 0, 0, 0.15);\n",
              "      filter: drop-shadow(0px 1px 2px rgba(0, 0, 0, 0.3));\n",
              "      fill: #FFFFFF;\n",
              "    }\n",
              "  </style>\n",
              "\n",
              "      <script>\n",
              "        const buttonEl =\n",
              "          document.querySelector('#df-df0159bb-b665-422c-84a0-28fe41a10571 button.colab-df-convert');\n",
              "        buttonEl.style.display =\n",
              "          google.colab.kernel.accessAllowed ? 'block' : 'none';\n",
              "\n",
              "        async function convertToInteractive(key) {\n",
              "          const element = document.querySelector('#df-df0159bb-b665-422c-84a0-28fe41a10571');\n",
              "          const dataTable =\n",
              "            await google.colab.kernel.invokeFunction('convertToInteractive',\n",
              "                                                     [key], {});\n",
              "          if (!dataTable) return;\n",
              "\n",
              "          const docLinkHtml = 'Like what you see? Visit the ' +\n",
              "            '<a target=\"_blank\" href=https://colab.research.google.com/notebooks/data_table.ipynb>data table notebook</a>'\n",
              "            + ' to learn more about interactive tables.';\n",
              "          element.innerHTML = '';\n",
              "          dataTable['output_type'] = 'display_data';\n",
              "          await google.colab.output.renderOutput(dataTable, element);\n",
              "          const docLink = document.createElement('div');\n",
              "          docLink.innerHTML = docLinkHtml;\n",
              "          element.appendChild(docLink);\n",
              "        }\n",
              "      </script>\n",
              "    </div>\n",
              "  </div>\n",
              "  "
            ]
          },
          "metadata": {},
          "execution_count": 7
        }
      ]
    },
    {
      "cell_type": "code",
      "source": [
        "valid=pd.read_csv(f'{root_data}/valid.csv')"
      ],
      "metadata": {
        "id": "S5czqpULm-xt"
      },
      "execution_count": 23,
      "outputs": []
    },
    {
      "cell_type": "code",
      "source": [
        "def tokenizer(s): \n",
        "    sentences = sent_tokenize(s) \n",
        "    # tokens=[]\n",
        "    _sentences=[]\n",
        "    for sentence in sentences:\n",
        "      # tokens+=sentence\n",
        "      tokens=[]\n",
        "      for token in word_tokenize(sentence,):\n",
        "        token=token.replace(\"-\", \" \")\n",
        "        token=token.replace(\" \",\"_\")\n",
        "        \n",
        "        tokens.append(token)\n",
        "      _sentences.append(tokens)\n",
        "    return list(chain.from_iterable(_sentences))"
      ],
      "metadata": {
        "id": "pIhN3wYjlXzn"
      },
      "execution_count": 17,
      "outputs": []
    },
    {
      "cell_type": "code",
      "source": [
        "tokenizer(\"làm nhiều bài kiểm tra quá .\")"
      ],
      "metadata": {
        "colab": {
          "base_uri": "https://localhost:8080/"
        },
        "id": "jzxzx8rKlfaU",
        "outputId": "343fee84-5918-4921-b4ec-e8e67dfca246"
      },
      "execution_count": 18,
      "outputs": [
        {
          "output_type": "execute_result",
          "data": {
            "text/plain": [
              "['làm', 'nhiều', 'bài', 'kiểm_tra', 'quá', '.']"
            ]
          },
          "metadata": {},
          "execution_count": 18
        }
      ]
    },
    {
      "cell_type": "code",
      "source": [
        "train_x=train['cleaned_sentence'].tolist()"
      ],
      "metadata": {
        "id": "x_XJyJS9l9SF"
      },
      "execution_count": 19,
      "outputs": []
    },
    {
      "cell_type": "code",
      "source": [
        "valid_x=valid['cleaned_sentence'].tolist()"
      ],
      "metadata": {
        "id": "iM6AGPAxnCJn"
      },
      "execution_count": 24,
      "outputs": []
    },
    {
      "cell_type": "code",
      "source": [
        "train_y=train['topic'].tolist()"
      ],
      "metadata": {
        "id": "FFRH-Ha7mBus"
      },
      "execution_count": 20,
      "outputs": []
    },
    {
      "cell_type": "code",
      "source": [
        "valid_y=valid['topic'].tolist()"
      ],
      "metadata": {
        "id": "XyrzyNx-nFaO"
      },
      "execution_count": 25,
      "outputs": []
    },
    {
      "cell_type": "markdown",
      "source": [
        "#Convert text to count vectorizer"
      ],
      "metadata": {
        "id": "SXE9sVpj_4ln"
      }
    },
    {
      "cell_type": "code",
      "source": [
        "count_vectorizer=CountVectorizer(tokenizer=tokenizer,ngram_range=(1,3),max_features=5000)"
      ],
      "metadata": {
        "id": "EObsy42HkY6s"
      },
      "execution_count": 124,
      "outputs": []
    },
    {
      "cell_type": "code",
      "source": [
        "train_vectorizer=count_vectorizer.fit_transform(train_x)"
      ],
      "metadata": {
        "id": "OQzELykymbcY"
      },
      "execution_count": 125,
      "outputs": []
    },
    {
      "cell_type": "code",
      "source": [
        "vocabs=count_vectorizer.get_feature_names()"
      ],
      "metadata": {
        "colab": {
          "base_uri": "https://localhost:8080/"
        },
        "id": "XhOVnOo-5sVn",
        "outputId": "e58ecd07-18a2-459a-a889-6bd9b32901ed"
      },
      "execution_count": 132,
      "outputs": [
        {
          "output_type": "stream",
          "name": "stderr",
          "text": [
            "/usr/local/lib/python3.7/dist-packages/sklearn/utils/deprecation.py:87: FutureWarning: Function get_feature_names is deprecated; get_feature_names is deprecated in 1.0 and will be removed in 1.2. Please use get_feature_names_out instead.\n",
            "  warnings.warn(msg, category=FutureWarning)\n"
          ]
        }
      ]
    },
    {
      "cell_type": "code",
      "source": [
        "len(vocabs)"
      ],
      "metadata": {
        "colab": {
          "base_uri": "https://localhost:8080/"
        },
        "id": "X8hNmPbw6-sI",
        "outputId": "38f04a3c-2e49-4d49-a4e6-aa6103c40662"
      },
      "execution_count": 135,
      "outputs": [
        {
          "output_type": "execute_result",
          "data": {
            "text/plain": [
              "5000"
            ]
          },
          "metadata": {},
          "execution_count": 135
        }
      ]
    },
    {
      "cell_type": "code",
      "source": [
        "vocab2idx={vocab:idx for idx,vocab in enumerate(vocabs)}"
      ],
      "metadata": {
        "id": "-_SZtVP57Qwo"
      },
      "execution_count": 136,
      "outputs": []
    },
    {
      "cell_type": "code",
      "source": [
        "# class_weight=compute_class_weight(y=train_y,classes=[0,1,2,3],class_weight='balanced')\n",
        "# class_weight"
      ],
      "metadata": {
        "id": "aZlJx8T5uAbS"
      },
      "execution_count": 126,
      "outputs": []
    },
    {
      "cell_type": "markdown",
      "source": [
        "# K-fold SVM"
      ],
      "metadata": {
        "id": "3rAs84EO__MS"
      }
    },
    {
      "cell_type": "code",
      "source": [
        "svm_clf=SVC(class_weight='balanced')"
      ],
      "metadata": {
        "id": "27YPU30unKpa"
      },
      "execution_count": 127,
      "outputs": []
    },
    {
      "cell_type": "code",
      "source": [
        "param_grid={'C':[1e-5,1e-3,1e-1,1,10,100]}\n",
        "svm_cv=GridSearchCV(estimator=svm_clf,param_grid=param_grid,cv=5,scoring='f1_weighted')"
      ],
      "metadata": {
        "id": "_5nQZw5VnqA7"
      },
      "execution_count": 128,
      "outputs": []
    },
    {
      "cell_type": "code",
      "source": [
        "svm_cv.fit(train_vectorizer,train_y)"
      ],
      "metadata": {
        "colab": {
          "base_uri": "https://localhost:8080/"
        },
        "id": "YeF1Z8oApQBx",
        "outputId": "164f6fe9-7c20-4013-d61d-1031d7f911b5"
      },
      "execution_count": 129,
      "outputs": [
        {
          "output_type": "execute_result",
          "data": {
            "text/plain": [
              "GridSearchCV(cv=5, estimator=SVC(class_weight='balanced'),\n",
              "             param_grid={'C': [1e-05, 0.001, 0.1, 1, 10, 100]},\n",
              "             scoring='f1_weighted')"
            ]
          },
          "metadata": {},
          "execution_count": 129
        }
      ]
    },
    {
      "cell_type": "code",
      "source": [
        "svm_cv.best_params_"
      ],
      "metadata": {
        "colab": {
          "base_uri": "https://localhost:8080/"
        },
        "id": "ib1ZTqj6pu2W",
        "outputId": "e1acec11-a59b-44f8-945d-754257430259"
      },
      "execution_count": 130,
      "outputs": [
        {
          "output_type": "execute_result",
          "data": {
            "text/plain": [
              "{'C': 10}"
            ]
          },
          "metadata": {},
          "execution_count": 130
        }
      ]
    },
    {
      "cell_type": "code",
      "source": [
        "svm_cv.best_score_"
      ],
      "metadata": {
        "colab": {
          "base_uri": "https://localhost:8080/"
        },
        "id": "XuoJ6IRyskOc",
        "outputId": "4ea41c66-c0cc-494f-8487-6bb654fbb25e"
      },
      "execution_count": 131,
      "outputs": [
        {
          "output_type": "execute_result",
          "data": {
            "text/plain": [
              "0.8355534601177199"
            ]
          },
          "metadata": {},
          "execution_count": 131
        }
      ]
    },
    {
      "cell_type": "code",
      "source": [
        "def create_inputs(sample):\n",
        "  tokens=tokenizer(sample)\n",
        "  size_samples=len(tokens)\n",
        "  vectors=np.zeros((1,len(vocabs)))\n",
        "  \n",
        "  #unigram\n",
        "  for token in tokens:\n",
        "    if token in vocab2idx:\n",
        "      vectors[:,vocab2idx[token]]+=1\n",
        "\n",
        "  #bigram\n",
        "  for idx in range(size_samples-1):\n",
        "    token=\" \".join(tokens[idx:idx+2])\n",
        "    if token in vocab2idx:\n",
        "      vectors[:,vocab2idx[token]]+=1\n",
        "\n",
        "  #trigram\n",
        "  for idx in range(size_samples-2):\n",
        "    token=\" \".join(tokens[idx:idx+3])\n",
        "    if token in vocab2idx:\n",
        "      vectors[:,vocab2idx[token]]+=1\n",
        "\n",
        "  return vectors\n",
        "\n"
      ],
      "metadata": {
        "id": "S83Cs6ZR7F1K"
      },
      "execution_count": 158,
      "outputs": []
    },
    {
      "cell_type": "markdown",
      "source": [
        "#Classifier on valid set"
      ],
      "metadata": {
        "id": "AAwY9Juv_y60"
      }
    },
    {
      "cell_type": "code",
      "source": [
        "valid_vectorizer=[create_inputs(sample) for sample in valid_x]"
      ],
      "metadata": {
        "id": "KISkZVtX9wJk"
      },
      "execution_count": 163,
      "outputs": []
    },
    {
      "cell_type": "code",
      "source": [
        "valid_vectorizer=np.concatenate(valid_vectorizer,axis=0)"
      ],
      "metadata": {
        "id": "aX-p7r0Q97My"
      },
      "execution_count": 164,
      "outputs": []
    },
    {
      "cell_type": "code",
      "source": [
        "valid_pred=svm_cv.predict(valid_vectorizer).tolist()"
      ],
      "metadata": {
        "id": "FBSn0OWF9is4"
      },
      "execution_count": 171,
      "outputs": []
    },
    {
      "cell_type": "code",
      "source": [
        "confusion_matrix(valid_pred,valid_y)"
      ],
      "metadata": {
        "colab": {
          "base_uri": "https://localhost:8080/"
        },
        "id": "bPNZCuMv0jv6",
        "outputId": "bf156cc9-2abb-4118-f495-65b3ddb81739"
      },
      "execution_count": 173,
      "outputs": [
        {
          "output_type": "execute_result",
          "data": {
            "text/plain": [
              "array([[1054,   58,    8,   31],\n",
              "       [  53,  194,   14,   17],\n",
              "       [   4,    4,   45,    2],\n",
              "       [  40,   11,    3,   45]])"
            ]
          },
          "metadata": {},
          "execution_count": 173
        }
      ]
    },
    {
      "cell_type": "code",
      "source": [
        "print(classification_report(valid_pred,valid_y,digits=5))"
      ],
      "metadata": {
        "colab": {
          "base_uri": "https://localhost:8080/"
        },
        "id": "-mJyGrLMsTGA",
        "outputId": "b0f78a4c-11c6-4619-be45-23498bb09572"
      },
      "execution_count": 174,
      "outputs": [
        {
          "output_type": "stream",
          "name": "stdout",
          "text": [
            "              precision    recall  f1-score   support\n",
            "\n",
            "           0    0.91573   0.91573   0.91573      1151\n",
            "           1    0.72659   0.69784   0.71193       278\n",
            "           2    0.64286   0.81818   0.72000        55\n",
            "           3    0.47368   0.45455   0.46392        99\n",
            "\n",
            "    accuracy                        0.84523      1583\n",
            "   macro avg    0.68971   0.72157   0.70289      1583\n",
            "weighted avg    0.84538   0.84523   0.84488      1583\n",
            "\n"
          ]
        }
      ]
    },
    {
      "cell_type": "markdown",
      "source": [
        "#Classifier on test set"
      ],
      "metadata": {
        "id": "acZWCObA_sMX"
      }
    },
    {
      "cell_type": "code",
      "source": [
        "test=pd.read_csv('/content/drive/MyDrive/vietnamese_students_feedback/raw_dataset/test.csv')"
      ],
      "metadata": {
        "id": "alduN0lBsd4S"
      },
      "execution_count": 176,
      "outputs": []
    },
    {
      "cell_type": "code",
      "source": [
        "punctuations=list(string.punctuation)"
      ],
      "metadata": {
        "id": "FF6faGF3-oFC"
      },
      "execution_count": 178,
      "outputs": []
    },
    {
      "cell_type": "code",
      "source": [
        "def normalizer(text,joinf=False):\n",
        "  def remove_symbols(s):\n",
        "    return re.sub(r'\\b(colon\\w+)\\b',\" \",s)\n",
        "\n",
        "  def remove_fraction(s):\n",
        "    return re.sub(r'\\b(fraction)\\b','/',s)\n",
        "\n",
        "  def replace_dot(s):\n",
        "    return s.replace('dot','.')\n",
        "    # return re.sub(r'\\b(dot)\\b',\".\",s)\n",
        "\n",
        "  def replace_doubledot(s):\n",
        "    return s.replace('doubledot',':')\n",
        "    \n",
        "  def uncased(s):\n",
        "    return s.lower()\n",
        "\n",
        "  def fix_whitespaces(s):\n",
        "    return re.sub(r'\\s+',' ',s)\n",
        "\n",
        "  def remove_entities(s):\n",
        "    return re.sub(r'\\b((\\w+|)wzjwz\\d+)\\b',\" \",s)\n",
        "\n",
        "  def remove_vv(s):\n",
        "    return s.replace('v.v',\" \")\n",
        "\n",
        "  def remove_punctuations(s):\n",
        "      return ''.join(ch for ch in s if ch not in punctuations)\n",
        "  def norm_major(s):\n",
        "      majors={\n",
        "          'cnpm':\"công nghệ phần mềm\",\n",
        "          'khmt':\"khoa học máy tính\",\n",
        "          'ktmt':\"kĩ thuật máy tính\",\n",
        "          'cntt':\"công nghệ thông tin\",\n",
        "          'av1':\"anh văn 1\",\n",
        "          'av2':\"anh văn 2\",\n",
        "          'av3':\"anh văn 3\"\n",
        "      }\n",
        "      for k,v in majors.items():\n",
        "        s=re.sub(r'\\b({})\\b'.format(k),v,s)\n",
        "      return s\n",
        "  def remove_ps(s):\n",
        "    return s.replace(\"p / s\",\" \")\n",
        "\n",
        "  def tokenize(s,join=False): \n",
        "    sentences = sent_tokenize(s) \n",
        "    # tokens=[]\n",
        "    _sentences=[]\n",
        "    for sentence in sentences:\n",
        "      # tokens+=sentence\n",
        "      tokens=[]\n",
        "      for token in word_tokenize(sentence,):\n",
        "        token=token.replace(\"-\", \" \")\n",
        "        if join==True:\n",
        "          token=token.replace(\" \",\"_\")\n",
        "        \n",
        "        tokens.append(token)\n",
        "      _sentences.append(\" \".join(tokens))\n",
        "    return \" \".join(_sentences)\n",
        "  \n",
        "  return fix_whitespaces(uncased(remove_punctuations(tokenize(norm_major(remove_ps(remove_fraction(remove_vv(remove_entities(remove_symbols(replace_dot(replace_doubledot(text)))))))),join)))).strip()"
      ],
      "metadata": {
        "id": "hNAVJoil-1_9"
      },
      "execution_count": 181,
      "outputs": []
    },
    {
      "cell_type": "code",
      "source": [
        "test_x=test['sentence'].map(normalizer).tolist()"
      ],
      "metadata": {
        "id": "lgEvMF2r-7XL"
      },
      "execution_count": 186,
      "outputs": []
    },
    {
      "cell_type": "code",
      "source": [
        "test_y=test['topic'].tolist()"
      ],
      "metadata": {
        "id": "Ajz7gSmG_H0s"
      },
      "execution_count": 187,
      "outputs": []
    },
    {
      "cell_type": "code",
      "source": [
        "test_vectorizer=[create_inputs(sample) for sample in test_x]"
      ],
      "metadata": {
        "id": "fu2eut3X_PvX"
      },
      "execution_count": 188,
      "outputs": []
    },
    {
      "cell_type": "code",
      "source": [
        "test_vectorizer=np.concatenate(test_vectorizer,axis=0)"
      ],
      "metadata": {
        "id": "SK-L7djy_aou"
      },
      "execution_count": 189,
      "outputs": []
    },
    {
      "cell_type": "code",
      "source": [
        "test_pred=svm_cv.predict(test_vectorizer).tolist()"
      ],
      "metadata": {
        "id": "BWYfkzn3_daO"
      },
      "execution_count": 190,
      "outputs": []
    },
    {
      "cell_type": "code",
      "source": [
        "confusion_matrix(test_pred,test_y)"
      ],
      "metadata": {
        "colab": {
          "base_uri": "https://localhost:8080/"
        },
        "id": "VWUZXyxS_g16",
        "outputId": "53b9e642-0e7b-4a6d-ddc2-5b5f11f52e1f"
      },
      "execution_count": 191,
      "outputs": [
        {
          "output_type": "execute_result",
          "data": {
            "text/plain": [
              "array([[2090,  150,   15,   36],\n",
              "       [ 130,  388,   17,   39],\n",
              "       [   3,    4,  109,    3],\n",
              "       [  67,   30,    4,   81]])"
            ]
          },
          "metadata": {},
          "execution_count": 191
        }
      ]
    },
    {
      "cell_type": "code",
      "source": [
        "print(classification_report(test_pred,test_y,digits=5))"
      ],
      "metadata": {
        "colab": {
          "base_uri": "https://localhost:8080/"
        },
        "id": "1TqXspCo_kZv",
        "outputId": "4ca885c3-c224-41dd-deee-2677161c1eb2"
      },
      "execution_count": 192,
      "outputs": [
        {
          "output_type": "stream",
          "name": "stdout",
          "text": [
            "              precision    recall  f1-score   support\n",
            "\n",
            "           0    0.91266   0.91227   0.91246      2291\n",
            "           1    0.67832   0.67596   0.67714       574\n",
            "           2    0.75172   0.91597   0.82576       119\n",
            "           3    0.50943   0.44505   0.47507       182\n",
            "\n",
            "    accuracy                        0.84270      3166\n",
            "   macro avg    0.71304   0.73731   0.72261      3166\n",
            "weighted avg    0.84095   0.84270   0.84140      3166\n",
            "\n"
          ]
        }
      ]
    },
    {
      "cell_type": "code",
      "source": [
        ""
      ],
      "metadata": {
        "id": "HdSKJops_ot_"
      },
      "execution_count": null,
      "outputs": []
    }
  ]
}