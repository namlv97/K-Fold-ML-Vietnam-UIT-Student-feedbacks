{
  "nbformat": 4,
  "nbformat_minor": 0,
  "metadata": {
    "colab": {
      "name": "K-Fold ML Vietnamese UIT Student feedbacks",
      "provenance": []
    },
    "kernelspec": {
      "name": "python3",
      "display_name": "Python 3"
    },
    "language_info": {
      "name": "python"
    }
  },
  "cells": [
    {
      "cell_type": "code",
      "source": [
        "from google.colab import drive\n",
        "drive.mount('/content/drive')"
      ],
      "metadata": {
        "colab": {
          "base_uri": "https://localhost:8080/"
        },
        "id": "60gHezabibbo",
        "outputId": "be18f6ad-9de2-409a-8d4f-4222df8d7c40"
      },
      "execution_count": 2,
      "outputs": [
        {
          "output_type": "stream",
          "name": "stdout",
          "text": [
            "Mounted at /content/drive\n"
          ]
        }
      ]
    },
    {
      "cell_type": "code",
      "source": [
        "pip install underthesea"
      ],
      "metadata": {
        "colab": {
          "base_uri": "https://localhost:8080/"
        },
        "id": "FQNUuHwnk345",
        "outputId": "180840c1-c765-40d1-a2ab-8b4bd1ac457d"
      },
      "execution_count": 9,
      "outputs": [
        {
          "output_type": "stream",
          "name": "stdout",
          "text": [
            "Collecting underthesea\n",
            "  Downloading underthesea-1.3.4-py3-none-any.whl (7.6 MB)\n",
            "\u001b[K     |████████████████████████████████| 7.6 MB 5.3 MB/s \n",
            "\u001b[?25hRequirement already satisfied: nltk in /usr/local/lib/python3.7/dist-packages (from underthesea) (3.2.5)\n",
            "Collecting python-crfsuite>=0.9.6\n",
            "  Downloading python_crfsuite-0.9.8-cp37-cp37m-manylinux_2_17_x86_64.manylinux2014_x86_64.whl (965 kB)\n",
            "\u001b[K     |████████████████████████████████| 965 kB 44.2 MB/s \n",
            "\u001b[?25hRequirement already satisfied: scikit-learn in /usr/local/lib/python3.7/dist-packages (from underthesea) (1.0.2)\n",
            "Collecting unidecode\n",
            "  Downloading Unidecode-1.3.4-py3-none-any.whl (235 kB)\n",
            "\u001b[K     |████████████████████████████████| 235 kB 47.3 MB/s \n",
            "\u001b[?25hRequirement already satisfied: PyYAML in /usr/local/lib/python3.7/dist-packages (from underthesea) (3.13)\n",
            "Requirement already satisfied: Click>=6.0 in /usr/local/lib/python3.7/dist-packages (from underthesea) (7.1.2)\n",
            "Requirement already satisfied: joblib in /usr/local/lib/python3.7/dist-packages (from underthesea) (1.1.0)\n",
            "Collecting underthesea-core==0.0.4_alpha.10\n",
            "  Downloading underthesea_core-0.0.4_alpha.10-cp37-cp37m-manylinux2010_x86_64.whl (581 kB)\n",
            "\u001b[K     |████████████████████████████████| 581 kB 53.5 MB/s \n",
            "\u001b[?25hRequirement already satisfied: tqdm in /usr/local/lib/python3.7/dist-packages (from underthesea) (4.64.0)\n",
            "Requirement already satisfied: requests in /usr/local/lib/python3.7/dist-packages (from underthesea) (2.23.0)\n",
            "Requirement already satisfied: six in /usr/local/lib/python3.7/dist-packages (from nltk->underthesea) (1.15.0)\n",
            "Requirement already satisfied: urllib3!=1.25.0,!=1.25.1,<1.26,>=1.21.1 in /usr/local/lib/python3.7/dist-packages (from requests->underthesea) (1.24.3)\n",
            "Requirement already satisfied: certifi>=2017.4.17 in /usr/local/lib/python3.7/dist-packages (from requests->underthesea) (2021.10.8)\n",
            "Requirement already satisfied: chardet<4,>=3.0.2 in /usr/local/lib/python3.7/dist-packages (from requests->underthesea) (3.0.4)\n",
            "Requirement already satisfied: idna<3,>=2.5 in /usr/local/lib/python3.7/dist-packages (from requests->underthesea) (2.10)\n",
            "Requirement already satisfied: threadpoolctl>=2.0.0 in /usr/local/lib/python3.7/dist-packages (from scikit-learn->underthesea) (3.1.0)\n",
            "Requirement already satisfied: scipy>=1.1.0 in /usr/local/lib/python3.7/dist-packages (from scikit-learn->underthesea) (1.4.1)\n",
            "Requirement already satisfied: numpy>=1.14.6 in /usr/local/lib/python3.7/dist-packages (from scikit-learn->underthesea) (1.21.6)\n",
            "Installing collected packages: unidecode, underthesea-core, python-crfsuite, underthesea\n",
            "Successfully installed python-crfsuite-0.9.8 underthesea-1.3.4 underthesea-core-0.0.4a10 unidecode-1.3.4\n"
          ]
        }
      ]
    },
    {
      "cell_type": "code",
      "source": [
        "import pandas as pd\n",
        "from sklearn.feature_extraction.text import CountVectorizer\n",
        "from underthesea import sent_tokenize,word_tokenize\n",
        "from itertools import chain\n",
        "from sklearn.svm import SVC\n",
        "from sklearn.model_selection import GridSearchCV\n",
        "import numpy as np\n",
        "from sklearn.metrics import *\n",
        "from sklearn.utils.class_weight import compute_class_weight\n",
        "import string\n",
        "import re\n",
        "from os.path import join\n",
        "from sklearn.tree import DecisionTreeClassifier\n",
        "from sklearn.ensemble import RandomForestClassifier"
      ],
      "metadata": {
        "id": "hdlKGAoIkREo"
      },
      "execution_count": 213,
      "outputs": []
    },
    {
      "cell_type": "code",
      "source": [
        "root_data=\"/content/drive/MyDrive/vietnamese_students_feedback/preproccesd_data\""
      ],
      "metadata": {
        "id": "Xj9rHRalhmBV"
      },
      "execution_count": 5,
      "outputs": []
    },
    {
      "cell_type": "code",
      "source": [
        "train=pd.read_csv(f'{root_data}/train.csv')"
      ],
      "metadata": {
        "id": "0w1W6b86kChI"
      },
      "execution_count": 6,
      "outputs": []
    },
    {
      "cell_type": "code",
      "source": [
        "train"
      ],
      "metadata": {
        "colab": {
          "base_uri": "https://localhost:8080/",
          "height": 419
        },
        "id": "Yvht6g__kXKB",
        "outputId": "c564c84b-3bb2-4e30-fa06-e800a3a419e6"
      },
      "execution_count": 7,
      "outputs": [
        {
          "output_type": "execute_result",
          "data": {
            "text/plain": [
              "                                                sentence  sentiment  topic  \\\n",
              "0                                 giọng cô nghe dễ ngủ !          1      0   \n",
              "1      phòng thực hành nhỏ không đủ máy cho sinh viên...          0      2   \n",
              "2                           nội dung học cần cải thiện .          0      1   \n",
              "3                           làm nhiều bài kiểm tra quá .          0      1   \n",
              "4      phần thi nói giữa các lớp không thống nhất về ...          0      1   \n",
              "...                                                  ...        ...    ...   \n",
              "11421  cô đưa ra nhiều hướng giải quyết khi sinh viên...          2      0   \n",
              "11422  em nghĩ nội dung thực hành nên gần với đồ án h...          0      1   \n",
              "11423                       luôn nhiệt tình và tận tâm .          2      0   \n",
              "11424  nó rất rập khuôn và không thể khiến cho sinh v...          0      1   \n",
              "11425  giảng viên giảng dạy nhiệt tình , truyền đạt t...          2      0   \n",
              "\n",
              "                                        cleaned_sentence  seq_len  \n",
              "0                                   giọng cô nghe dễ ngủ        5  \n",
              "1      phòng thực hành nhỏ không đủ máy cho sinh viên...       14  \n",
              "2                             nội dung học cần cải thiện        6  \n",
              "3                             làm nhiều bài kiểm tra quá        6  \n",
              "4      phần thi nói giữa các lớp không thống nhất về ...       15  \n",
              "...                                                  ...      ...  \n",
              "11421  cô đưa ra nhiều hướng giải quyết khi sinh viên...       16  \n",
              "11422   em nghĩ nội dung thực hành nên gần với đồ án hơn       12  \n",
              "11423                         luôn nhiệt tình và tận tâm        6  \n",
              "11424  nó rất rập khuôn và không thể khiến cho sinh v...       15  \n",
              "11425     giảng viên giảng dạy nhiệt tình truyền đạt tốt        9  \n",
              "\n",
              "[11426 rows x 5 columns]"
            ],
            "text/html": [
              "\n",
              "  <div id=\"df-df0159bb-b665-422c-84a0-28fe41a10571\">\n",
              "    <div class=\"colab-df-container\">\n",
              "      <div>\n",
              "<style scoped>\n",
              "    .dataframe tbody tr th:only-of-type {\n",
              "        vertical-align: middle;\n",
              "    }\n",
              "\n",
              "    .dataframe tbody tr th {\n",
              "        vertical-align: top;\n",
              "    }\n",
              "\n",
              "    .dataframe thead th {\n",
              "        text-align: right;\n",
              "    }\n",
              "</style>\n",
              "<table border=\"1\" class=\"dataframe\">\n",
              "  <thead>\n",
              "    <tr style=\"text-align: right;\">\n",
              "      <th></th>\n",
              "      <th>sentence</th>\n",
              "      <th>sentiment</th>\n",
              "      <th>topic</th>\n",
              "      <th>cleaned_sentence</th>\n",
              "      <th>seq_len</th>\n",
              "    </tr>\n",
              "  </thead>\n",
              "  <tbody>\n",
              "    <tr>\n",
              "      <th>0</th>\n",
              "      <td>giọng cô nghe dễ ngủ !</td>\n",
              "      <td>1</td>\n",
              "      <td>0</td>\n",
              "      <td>giọng cô nghe dễ ngủ</td>\n",
              "      <td>5</td>\n",
              "    </tr>\n",
              "    <tr>\n",
              "      <th>1</th>\n",
              "      <td>phòng thực hành nhỏ không đủ máy cho sinh viên...</td>\n",
              "      <td>0</td>\n",
              "      <td>2</td>\n",
              "      <td>phòng thực hành nhỏ không đủ máy cho sinh viên...</td>\n",
              "      <td>14</td>\n",
              "    </tr>\n",
              "    <tr>\n",
              "      <th>2</th>\n",
              "      <td>nội dung học cần cải thiện .</td>\n",
              "      <td>0</td>\n",
              "      <td>1</td>\n",
              "      <td>nội dung học cần cải thiện</td>\n",
              "      <td>6</td>\n",
              "    </tr>\n",
              "    <tr>\n",
              "      <th>3</th>\n",
              "      <td>làm nhiều bài kiểm tra quá .</td>\n",
              "      <td>0</td>\n",
              "      <td>1</td>\n",
              "      <td>làm nhiều bài kiểm tra quá</td>\n",
              "      <td>6</td>\n",
              "    </tr>\n",
              "    <tr>\n",
              "      <th>4</th>\n",
              "      <td>phần thi nói giữa các lớp không thống nhất về ...</td>\n",
              "      <td>0</td>\n",
              "      <td>1</td>\n",
              "      <td>phần thi nói giữa các lớp không thống nhất về ...</td>\n",
              "      <td>15</td>\n",
              "    </tr>\n",
              "    <tr>\n",
              "      <th>...</th>\n",
              "      <td>...</td>\n",
              "      <td>...</td>\n",
              "      <td>...</td>\n",
              "      <td>...</td>\n",
              "      <td>...</td>\n",
              "    </tr>\n",
              "    <tr>\n",
              "      <th>11421</th>\n",
              "      <td>cô đưa ra nhiều hướng giải quyết khi sinh viên...</td>\n",
              "      <td>2</td>\n",
              "      <td>0</td>\n",
              "      <td>cô đưa ra nhiều hướng giải quyết khi sinh viên...</td>\n",
              "      <td>16</td>\n",
              "    </tr>\n",
              "    <tr>\n",
              "      <th>11422</th>\n",
              "      <td>em nghĩ nội dung thực hành nên gần với đồ án h...</td>\n",
              "      <td>0</td>\n",
              "      <td>1</td>\n",
              "      <td>em nghĩ nội dung thực hành nên gần với đồ án hơn</td>\n",
              "      <td>12</td>\n",
              "    </tr>\n",
              "    <tr>\n",
              "      <th>11423</th>\n",
              "      <td>luôn nhiệt tình và tận tâm .</td>\n",
              "      <td>2</td>\n",
              "      <td>0</td>\n",
              "      <td>luôn nhiệt tình và tận tâm</td>\n",
              "      <td>6</td>\n",
              "    </tr>\n",
              "    <tr>\n",
              "      <th>11424</th>\n",
              "      <td>nó rất rập khuôn và không thể khiến cho sinh v...</td>\n",
              "      <td>0</td>\n",
              "      <td>1</td>\n",
              "      <td>nó rất rập khuôn và không thể khiến cho sinh v...</td>\n",
              "      <td>15</td>\n",
              "    </tr>\n",
              "    <tr>\n",
              "      <th>11425</th>\n",
              "      <td>giảng viên giảng dạy nhiệt tình , truyền đạt t...</td>\n",
              "      <td>2</td>\n",
              "      <td>0</td>\n",
              "      <td>giảng viên giảng dạy nhiệt tình truyền đạt tốt</td>\n",
              "      <td>9</td>\n",
              "    </tr>\n",
              "  </tbody>\n",
              "</table>\n",
              "<p>11426 rows × 5 columns</p>\n",
              "</div>\n",
              "      <button class=\"colab-df-convert\" onclick=\"convertToInteractive('df-df0159bb-b665-422c-84a0-28fe41a10571')\"\n",
              "              title=\"Convert this dataframe to an interactive table.\"\n",
              "              style=\"display:none;\">\n",
              "        \n",
              "  <svg xmlns=\"http://www.w3.org/2000/svg\" height=\"24px\"viewBox=\"0 0 24 24\"\n",
              "       width=\"24px\">\n",
              "    <path d=\"M0 0h24v24H0V0z\" fill=\"none\"/>\n",
              "    <path d=\"M18.56 5.44l.94 2.06.94-2.06 2.06-.94-2.06-.94-.94-2.06-.94 2.06-2.06.94zm-11 1L8.5 8.5l.94-2.06 2.06-.94-2.06-.94L8.5 2.5l-.94 2.06-2.06.94zm10 10l.94 2.06.94-2.06 2.06-.94-2.06-.94-.94-2.06-.94 2.06-2.06.94z\"/><path d=\"M17.41 7.96l-1.37-1.37c-.4-.4-.92-.59-1.43-.59-.52 0-1.04.2-1.43.59L10.3 9.45l-7.72 7.72c-.78.78-.78 2.05 0 2.83L4 21.41c.39.39.9.59 1.41.59.51 0 1.02-.2 1.41-.59l7.78-7.78 2.81-2.81c.8-.78.8-2.07 0-2.86zM5.41 20L4 18.59l7.72-7.72 1.47 1.35L5.41 20z\"/>\n",
              "  </svg>\n",
              "      </button>\n",
              "      \n",
              "  <style>\n",
              "    .colab-df-container {\n",
              "      display:flex;\n",
              "      flex-wrap:wrap;\n",
              "      gap: 12px;\n",
              "    }\n",
              "\n",
              "    .colab-df-convert {\n",
              "      background-color: #E8F0FE;\n",
              "      border: none;\n",
              "      border-radius: 50%;\n",
              "      cursor: pointer;\n",
              "      display: none;\n",
              "      fill: #1967D2;\n",
              "      height: 32px;\n",
              "      padding: 0 0 0 0;\n",
              "      width: 32px;\n",
              "    }\n",
              "\n",
              "    .colab-df-convert:hover {\n",
              "      background-color: #E2EBFA;\n",
              "      box-shadow: 0px 1px 2px rgba(60, 64, 67, 0.3), 0px 1px 3px 1px rgba(60, 64, 67, 0.15);\n",
              "      fill: #174EA6;\n",
              "    }\n",
              "\n",
              "    [theme=dark] .colab-df-convert {\n",
              "      background-color: #3B4455;\n",
              "      fill: #D2E3FC;\n",
              "    }\n",
              "\n",
              "    [theme=dark] .colab-df-convert:hover {\n",
              "      background-color: #434B5C;\n",
              "      box-shadow: 0px 1px 3px 1px rgba(0, 0, 0, 0.15);\n",
              "      filter: drop-shadow(0px 1px 2px rgba(0, 0, 0, 0.3));\n",
              "      fill: #FFFFFF;\n",
              "    }\n",
              "  </style>\n",
              "\n",
              "      <script>\n",
              "        const buttonEl =\n",
              "          document.querySelector('#df-df0159bb-b665-422c-84a0-28fe41a10571 button.colab-df-convert');\n",
              "        buttonEl.style.display =\n",
              "          google.colab.kernel.accessAllowed ? 'block' : 'none';\n",
              "\n",
              "        async function convertToInteractive(key) {\n",
              "          const element = document.querySelector('#df-df0159bb-b665-422c-84a0-28fe41a10571');\n",
              "          const dataTable =\n",
              "            await google.colab.kernel.invokeFunction('convertToInteractive',\n",
              "                                                     [key], {});\n",
              "          if (!dataTable) return;\n",
              "\n",
              "          const docLinkHtml = 'Like what you see? Visit the ' +\n",
              "            '<a target=\"_blank\" href=https://colab.research.google.com/notebooks/data_table.ipynb>data table notebook</a>'\n",
              "            + ' to learn more about interactive tables.';\n",
              "          element.innerHTML = '';\n",
              "          dataTable['output_type'] = 'display_data';\n",
              "          await google.colab.output.renderOutput(dataTable, element);\n",
              "          const docLink = document.createElement('div');\n",
              "          docLink.innerHTML = docLinkHtml;\n",
              "          element.appendChild(docLink);\n",
              "        }\n",
              "      </script>\n",
              "    </div>\n",
              "  </div>\n",
              "  "
            ]
          },
          "metadata": {},
          "execution_count": 7
        }
      ]
    },
    {
      "cell_type": "code",
      "source": [
        "valid=pd.read_csv(f'{root_data}/valid.csv')"
      ],
      "metadata": {
        "id": "S5czqpULm-xt"
      },
      "execution_count": 23,
      "outputs": []
    },
    {
      "cell_type": "code",
      "source": [
        "def tokenizer(s): \n",
        "    sentences = sent_tokenize(s) \n",
        "    # tokens=[]\n",
        "    _sentences=[]\n",
        "    for sentence in sentences:\n",
        "      # tokens+=sentence\n",
        "      tokens=[]\n",
        "      for token in word_tokenize(sentence,):\n",
        "        token=token.replace(\"-\", \" \")\n",
        "        token=token.replace(\" \",\"_\")\n",
        "        \n",
        "        tokens.append(token)\n",
        "      _sentences.append(tokens)\n",
        "    return list(chain.from_iterable(_sentences))"
      ],
      "metadata": {
        "id": "pIhN3wYjlXzn"
      },
      "execution_count": 17,
      "outputs": []
    },
    {
      "cell_type": "code",
      "source": [
        "tokenizer(\"làm nhiều bài kiểm tra quá .\")"
      ],
      "metadata": {
        "colab": {
          "base_uri": "https://localhost:8080/"
        },
        "id": "jzxzx8rKlfaU",
        "outputId": "343fee84-5918-4921-b4ec-e8e67dfca246"
      },
      "execution_count": 18,
      "outputs": [
        {
          "output_type": "execute_result",
          "data": {
            "text/plain": [
              "['làm', 'nhiều', 'bài', 'kiểm_tra', 'quá', '.']"
            ]
          },
          "metadata": {},
          "execution_count": 18
        }
      ]
    },
    {
      "cell_type": "code",
      "source": [
        "train_x=train['cleaned_sentence'].tolist()"
      ],
      "metadata": {
        "id": "x_XJyJS9l9SF"
      },
      "execution_count": 19,
      "outputs": []
    },
    {
      "cell_type": "code",
      "source": [
        "valid_x=valid['cleaned_sentence'].tolist()"
      ],
      "metadata": {
        "id": "iM6AGPAxnCJn"
      },
      "execution_count": 24,
      "outputs": []
    },
    {
      "cell_type": "code",
      "source": [
        "train_y=train['topic'].tolist()"
      ],
      "metadata": {
        "id": "FFRH-Ha7mBus"
      },
      "execution_count": 20,
      "outputs": []
    },
    {
      "cell_type": "code",
      "source": [
        "valid_y=valid['topic'].tolist()"
      ],
      "metadata": {
        "id": "XyrzyNx-nFaO"
      },
      "execution_count": 25,
      "outputs": []
    },
    {
      "cell_type": "markdown",
      "source": [
        "#Convert text to count vectorizer"
      ],
      "metadata": {
        "id": "SXE9sVpj_4ln"
      }
    },
    {
      "cell_type": "code",
      "source": [
        "count_vectorizer=CountVectorizer(tokenizer=tokenizer,ngram_range=(1,3),max_features=5000)"
      ],
      "metadata": {
        "id": "EObsy42HkY6s"
      },
      "execution_count": 124,
      "outputs": []
    },
    {
      "cell_type": "code",
      "source": [
        "train_vectorizer=count_vectorizer.fit_transform(train_x)"
      ],
      "metadata": {
        "id": "OQzELykymbcY"
      },
      "execution_count": 125,
      "outputs": []
    },
    {
      "cell_type": "code",
      "source": [
        "vocabs=count_vectorizer.get_feature_names()"
      ],
      "metadata": {
        "colab": {
          "base_uri": "https://localhost:8080/"
        },
        "id": "XhOVnOo-5sVn",
        "outputId": "e58ecd07-18a2-459a-a889-6bd9b32901ed"
      },
      "execution_count": 132,
      "outputs": [
        {
          "output_type": "stream",
          "name": "stderr",
          "text": [
            "/usr/local/lib/python3.7/dist-packages/sklearn/utils/deprecation.py:87: FutureWarning: Function get_feature_names is deprecated; get_feature_names is deprecated in 1.0 and will be removed in 1.2. Please use get_feature_names_out instead.\n",
            "  warnings.warn(msg, category=FutureWarning)\n"
          ]
        }
      ]
    },
    {
      "cell_type": "code",
      "source": [
        "len(vocabs)"
      ],
      "metadata": {
        "colab": {
          "base_uri": "https://localhost:8080/"
        },
        "id": "X8hNmPbw6-sI",
        "outputId": "38f04a3c-2e49-4d49-a4e6-aa6103c40662"
      },
      "execution_count": 135,
      "outputs": [
        {
          "output_type": "execute_result",
          "data": {
            "text/plain": [
              "5000"
            ]
          },
          "metadata": {},
          "execution_count": 135
        }
      ]
    },
    {
      "cell_type": "code",
      "source": [
        "vocab2idx={vocab:idx for idx,vocab in enumerate(vocabs)}"
      ],
      "metadata": {
        "id": "-_SZtVP57Qwo"
      },
      "execution_count": 136,
      "outputs": []
    },
    {
      "cell_type": "code",
      "source": [
        "# class_weight=compute_class_weight(y=train_y,classes=[0,1,2,3],class_weight='balanced')\n",
        "# class_weight"
      ],
      "metadata": {
        "id": "aZlJx8T5uAbS"
      },
      "execution_count": 126,
      "outputs": []
    },
    {
      "cell_type": "code",
      "source": [
        "def create_inputs(sample):\n",
        "  tokens=tokenizer(sample)\n",
        "  size_samples=len(tokens)\n",
        "  vectors=np.zeros((1,len(vocabs)))\n",
        "  \n",
        "  #unigram\n",
        "  for token in tokens:\n",
        "    if token in vocab2idx:\n",
        "      vectors[:,vocab2idx[token]]+=1\n",
        "\n",
        "  #bigram\n",
        "  for idx in range(size_samples-1):\n",
        "    token=\" \".join(tokens[idx:idx+2])\n",
        "    if token in vocab2idx:\n",
        "      vectors[:,vocab2idx[token]]+=1\n",
        "\n",
        "  #trigram\n",
        "  for idx in range(size_samples-2):\n",
        "    token=\" \".join(tokens[idx:idx+3])\n",
        "    if token in vocab2idx:\n",
        "      vectors[:,vocab2idx[token]]+=1\n",
        "\n",
        "  return vectors\n",
        "\n"
      ],
      "metadata": {
        "id": "hnwwTOUfCTSK"
      },
      "execution_count": null,
      "outputs": []
    },
    {
      "cell_type": "code",
      "source": [
        "valid_vectorizer=[create_inputs(sample) for sample in valid_x]\n",
        "valid_vectorizer=np.concatenate(valid_vectorizer,axis=0)"
      ],
      "metadata": {
        "id": "lFcFz9tECWH7"
      },
      "execution_count": null,
      "outputs": []
    },
    {
      "cell_type": "code",
      "source": [
        "test=pd.read_csv('/content/drive/MyDrive/vietnamese_students_feedback/raw_dataset/test.csv')"
      ],
      "metadata": {
        "id": "NRRDJ8ZCCZUC"
      },
      "execution_count": null,
      "outputs": []
    },
    {
      "cell_type": "code",
      "source": [
        "punctuations=list(string.punctuation)\n",
        "def normalizer(text,joinf=False):\n",
        "  def remove_symbols(s):\n",
        "    return re.sub(r'\\b(colon\\w+)\\b',\" \",s)\n",
        "\n",
        "  def remove_fraction(s):\n",
        "    return re.sub(r'\\b(fraction)\\b','/',s)\n",
        "\n",
        "  def replace_dot(s):\n",
        "    return s.replace('dot','.')\n",
        "    # return re.sub(r'\\b(dot)\\b',\".\",s)\n",
        "\n",
        "  def replace_doubledot(s):\n",
        "    return s.replace('doubledot',':')\n",
        "    \n",
        "  def uncased(s):\n",
        "    return s.lower()\n",
        "\n",
        "  def fix_whitespaces(s):\n",
        "    return re.sub(r'\\s+',' ',s)\n",
        "\n",
        "  def remove_entities(s):\n",
        "    return re.sub(r'\\b((\\w+|)wzjwz\\d+)\\b',\" \",s)\n",
        "\n",
        "  def remove_vv(s):\n",
        "    return s.replace('v.v',\" \")\n",
        "\n",
        "  def remove_punctuations(s):\n",
        "      return ''.join(ch for ch in s if ch not in punctuations)\n",
        "  def norm_major(s):\n",
        "      majors={\n",
        "          'cnpm':\"công nghệ phần mềm\",\n",
        "          'khmt':\"khoa học máy tính\",\n",
        "          'ktmt':\"kĩ thuật máy tính\",\n",
        "          'cntt':\"công nghệ thông tin\",\n",
        "          'av1':\"anh văn 1\",\n",
        "          'av2':\"anh văn 2\",\n",
        "          'av3':\"anh văn 3\"\n",
        "      }\n",
        "      for k,v in majors.items():\n",
        "        s=re.sub(r'\\b({})\\b'.format(k),v,s)\n",
        "      return s\n",
        "  def remove_ps(s):\n",
        "    return s.replace(\"p / s\",\" \")\n",
        "\n",
        "  def tokenize(s,join=False): \n",
        "    sentences = sent_tokenize(s) \n",
        "    # tokens=[]\n",
        "    _sentences=[]\n",
        "    for sentence in sentences:\n",
        "      # tokens+=sentence\n",
        "      tokens=[]\n",
        "      for token in word_tokenize(sentence,):\n",
        "        token=token.replace(\"-\", \" \")\n",
        "        if join==True:\n",
        "          token=token.replace(\" \",\"_\")\n",
        "        \n",
        "        tokens.append(token)\n",
        "      _sentences.append(\" \".join(tokens))\n",
        "    return \" \".join(_sentences)\n",
        "  \n",
        "  return fix_whitespaces(uncased(remove_punctuations(tokenize(norm_major(remove_ps(remove_fraction(remove_vv(remove_entities(remove_symbols(replace_dot(replace_doubledot(text)))))))),join)))).strip()"
      ],
      "metadata": {
        "id": "M7YWrVj5CqXh"
      },
      "execution_count": null,
      "outputs": []
    },
    {
      "cell_type": "code",
      "source": [
        "test_x=test['sentence'].map(normalizer).tolist()\n",
        "test_y=test['topic'].tolist()"
      ],
      "metadata": {
        "id": "TdZtQhQyCtg0"
      },
      "execution_count": null,
      "outputs": []
    },
    {
      "cell_type": "code",
      "source": [
        "test_vectorizer=[create_inputs(sample) for sample in test_x]\n",
        "test_vectorizer=np.concatenate(test_vectorizer,axis=0)"
      ],
      "metadata": {
        "id": "7M3tbFTOCyMj"
      },
      "execution_count": null,
      "outputs": []
    },
    {
      "cell_type": "markdown",
      "source": [
        "#Decision tree"
      ],
      "metadata": {
        "id": "G9fOs7QlA2SG"
      }
    },
    {
      "cell_type": "code",
      "source": [
        "dt_clf=DecisionTreeClassifier(class_weight='balanced')"
      ],
      "metadata": {
        "id": "GddphhRJA4Nz"
      },
      "execution_count": 195,
      "outputs": []
    },
    {
      "cell_type": "code",
      "source": [
        "param_grid={'criterion':[\"gini\", \"entropy\"],'max_depth':np.arange(10,100,10)}\n",
        "dt_cv=GridSearchCV(estimator=dt_clf,param_grid=param_grid,cv=5,scoring='f1_weighted')"
      ],
      "metadata": {
        "id": "HoYwnAuNBK5Z"
      },
      "execution_count": 203,
      "outputs": []
    },
    {
      "cell_type": "code",
      "source": [
        "dt_cv.fit(train_vectorizer,train_y)"
      ],
      "metadata": {
        "colab": {
          "base_uri": "https://localhost:8080/"
        },
        "id": "sJRkvV6QB_bj",
        "outputId": "3542598f-83c0-4194-bba7-5bc22b817659"
      },
      "execution_count": 204,
      "outputs": [
        {
          "output_type": "execute_result",
          "data": {
            "text/plain": [
              "GridSearchCV(cv=5, estimator=DecisionTreeClassifier(class_weight='balanced'),\n",
              "             param_grid={'criterion': ['gini', 'entropy'],\n",
              "                         'max_depth': array([10, 20, 30, 40, 50, 60, 70, 80, 90])},\n",
              "             scoring='f1_weighted')"
            ]
          },
          "metadata": {},
          "execution_count": 204
        }
      ]
    },
    {
      "cell_type": "code",
      "source": [
        "dt_cv.best_params_"
      ],
      "metadata": {
        "colab": {
          "base_uri": "https://localhost:8080/"
        },
        "id": "OjGORM4sCKjX",
        "outputId": "2226309d-2520-4be9-e040-bead33d2a65a"
      },
      "execution_count": 201,
      "outputs": [
        {
          "output_type": "execute_result",
          "data": {
            "text/plain": [
              "{'criterion': 'entropy', 'max_depth': 90}"
            ]
          },
          "metadata": {},
          "execution_count": 201
        }
      ]
    },
    {
      "cell_type": "code",
      "source": [
        "dt_cv.best_score_"
      ],
      "metadata": {
        "colab": {
          "base_uri": "https://localhost:8080/"
        },
        "id": "i1u96YXvCMhl",
        "outputId": "4c6f15b2-7cf7-45d2-fc22-5bb97cc05f66"
      },
      "execution_count": 206,
      "outputs": [
        {
          "output_type": "execute_result",
          "data": {
            "text/plain": [
              "0.7979845749943472"
            ]
          },
          "metadata": {},
          "execution_count": 206
        }
      ]
    },
    {
      "cell_type": "markdown",
      "source": [
        "#Random Forest"
      ],
      "metadata": {
        "id": "7ef2mcY1DS3v"
      }
    },
    {
      "cell_type": "code",
      "source": [
        "rf_clf=RandomForestClassifier(class_weight='balanced')"
      ],
      "metadata": {
        "id": "zcdLBWyWDVUM"
      },
      "execution_count": 214,
      "outputs": []
    },
    {
      "cell_type": "code",
      "source": [
        "param_grid={'n_estimators':np.arange(10,100,10),'criterion':[\"gini\", \"entropy\"],'max_depth':np.arange(10,100,10)}\n",
        "rf_cv=GridSearchCV(estimator=rf_clf,param_grid=param_grid,cv=5,scoring='f1_weighted')"
      ],
      "metadata": {
        "id": "WVz6ZerCDcFR"
      },
      "execution_count": 215,
      "outputs": []
    },
    {
      "cell_type": "code",
      "source": [
        "rf_cv.fit(train_vectorizer,train_y)"
      ],
      "metadata": {
        "colab": {
          "base_uri": "https://localhost:8080/"
        },
        "id": "QqhV4bgiDpEj",
        "outputId": "c0c319c5-aa8e-4165-dc4b-57f2c3a2d4a9"
      },
      "execution_count": 216,
      "outputs": [
        {
          "output_type": "execute_result",
          "data": {
            "text/plain": [
              "GridSearchCV(cv=5, estimator=RandomForestClassifier(class_weight='balanced'),\n",
              "             param_grid={'criterion': ['gini', 'entropy'],\n",
              "                         'max_depth': array([10, 20, 30, 40, 50, 60, 70, 80, 90]),\n",
              "                         'n_estimators': array([10, 20, 30, 40, 50, 60, 70, 80, 90])},\n",
              "             scoring='f1_weighted')"
            ]
          },
          "metadata": {},
          "execution_count": 216
        }
      ]
    },
    {
      "cell_type": "code",
      "source": [
        "rf_cv.best_params_"
      ],
      "metadata": {
        "colab": {
          "base_uri": "https://localhost:8080/"
        },
        "id": "FJv03f3bDri5",
        "outputId": "c91a655d-26a5-4de7-f650-f5e76cf8004a"
      },
      "execution_count": 217,
      "outputs": [
        {
          "output_type": "execute_result",
          "data": {
            "text/plain": [
              "{'criterion': 'gini', 'max_depth': 60, 'n_estimators': 70}"
            ]
          },
          "metadata": {},
          "execution_count": 217
        }
      ]
    },
    {
      "cell_type": "code",
      "source": [
        "rf_cv.best_score_"
      ],
      "metadata": {
        "colab": {
          "base_uri": "https://localhost:8080/"
        },
        "id": "CrYtl-KhDs7p",
        "outputId": "2fc64915-79d5-444b-f3f2-81649a995c2f"
      },
      "execution_count": 218,
      "outputs": [
        {
          "output_type": "execute_result",
          "data": {
            "text/plain": [
              "0.8401182071804655"
            ]
          },
          "metadata": {},
          "execution_count": 218
        }
      ]
    },
    {
      "cell_type": "markdown",
      "source": [
        "# K-fold SVM"
      ],
      "metadata": {
        "id": "3rAs84EO__MS"
      }
    },
    {
      "cell_type": "code",
      "source": [
        "svm_clf=SVC(class_weight='balanced')"
      ],
      "metadata": {
        "id": "27YPU30unKpa"
      },
      "execution_count": 127,
      "outputs": []
    },
    {
      "cell_type": "code",
      "source": [
        "param_grid={'C':[1e-5,1e-3,1e-1,1,10,100]}\n",
        "svm_cv=GridSearchCV(estimator=svm_clf,param_grid=param_grid,cv=5,scoring='f1_weighted')"
      ],
      "metadata": {
        "id": "_5nQZw5VnqA7"
      },
      "execution_count": 128,
      "outputs": []
    },
    {
      "cell_type": "code",
      "source": [
        "svm_cv.fit(train_vectorizer,train_y)"
      ],
      "metadata": {
        "colab": {
          "base_uri": "https://localhost:8080/"
        },
        "id": "YeF1Z8oApQBx",
        "outputId": "164f6fe9-7c20-4013-d61d-1031d7f911b5"
      },
      "execution_count": 129,
      "outputs": [
        {
          "output_type": "execute_result",
          "data": {
            "text/plain": [
              "GridSearchCV(cv=5, estimator=SVC(class_weight='balanced'),\n",
              "             param_grid={'C': [1e-05, 0.001, 0.1, 1, 10, 100]},\n",
              "             scoring='f1_weighted')"
            ]
          },
          "metadata": {},
          "execution_count": 129
        }
      ]
    },
    {
      "cell_type": "code",
      "source": [
        "svm_cv.best_params_"
      ],
      "metadata": {
        "colab": {
          "base_uri": "https://localhost:8080/"
        },
        "id": "ib1ZTqj6pu2W",
        "outputId": "e1acec11-a59b-44f8-945d-754257430259"
      },
      "execution_count": 130,
      "outputs": [
        {
          "output_type": "execute_result",
          "data": {
            "text/plain": [
              "{'C': 10}"
            ]
          },
          "metadata": {},
          "execution_count": 130
        }
      ]
    },
    {
      "cell_type": "code",
      "source": [
        "svm_cv.best_score_"
      ],
      "metadata": {
        "colab": {
          "base_uri": "https://localhost:8080/"
        },
        "id": "XuoJ6IRyskOc",
        "outputId": "4ea41c66-c0cc-494f-8487-6bb654fbb25e"
      },
      "execution_count": 131,
      "outputs": [
        {
          "output_type": "execute_result",
          "data": {
            "text/plain": [
              "0.8355534601177199"
            ]
          },
          "metadata": {},
          "execution_count": 131
        }
      ]
    },
    {
      "cell_type": "markdown",
      "source": [
        "#Classifier on valid set"
      ],
      "metadata": {
        "id": "AAwY9Juv_y60"
      }
    },
    {
      "cell_type": "code",
      "source": [
        "# valid_pred=svm_cv.predict(valid_vectorizer).tolist()\n",
        "# valid_pred=dt_cv.predict(valid_vectorizer).tolist()\n",
        "valid_pred=rf_cv.predict(valid_vectorizer).tolist()"
      ],
      "metadata": {
        "id": "FBSn0OWF9is4"
      },
      "execution_count": 219,
      "outputs": []
    },
    {
      "cell_type": "code",
      "source": [
        "confusion_matrix(valid_pred,valid_y)"
      ],
      "metadata": {
        "colab": {
          "base_uri": "https://localhost:8080/"
        },
        "id": "bPNZCuMv0jv6",
        "outputId": "83251d30-eb06-47e2-9921-65f1e50875c9"
      },
      "execution_count": 220,
      "outputs": [
        {
          "output_type": "execute_result",
          "data": {
            "text/plain": [
              "array([[1021,   45,    3,   22],\n",
              "       [  55,  191,    6,   12],\n",
              "       [   0,    3,   58,    3],\n",
              "       [  75,   28,    3,   58]])"
            ]
          },
          "metadata": {},
          "execution_count": 220
        }
      ]
    },
    {
      "cell_type": "code",
      "source": [
        "print(classification_report(valid_pred,valid_y,digits=5))"
      ],
      "metadata": {
        "colab": {
          "base_uri": "https://localhost:8080/"
        },
        "id": "-mJyGrLMsTGA",
        "outputId": "355491db-4816-4ba3-fe6c-f6d0491b85cb"
      },
      "execution_count": 221,
      "outputs": [
        {
          "output_type": "stream",
          "name": "stdout",
          "text": [
            "              precision    recall  f1-score   support\n",
            "\n",
            "           0    0.88705   0.93584   0.91079      1091\n",
            "           1    0.71536   0.72348   0.71940       264\n",
            "           2    0.82857   0.90625   0.86567        64\n",
            "           3    0.61053   0.35366   0.44788       164\n",
            "\n",
            "    accuracy                        0.83891      1583\n",
            "   macro avg    0.76038   0.72981   0.73593      1583\n",
            "weighted avg    0.82741   0.83891   0.82909      1583\n",
            "\n"
          ]
        }
      ]
    },
    {
      "cell_type": "markdown",
      "source": [
        "#Classifier on test set"
      ],
      "metadata": {
        "id": "acZWCObA_sMX"
      }
    },
    {
      "cell_type": "code",
      "source": [
        "# test_pred=svm_cv.predict(test_vectorizer).tolist()\n",
        "# test_pred=dt_cv.predict(test_vectorizer).tolist()\n",
        "test_pred=rf_cv.predict(test_vectorizer).tolist()"
      ],
      "metadata": {
        "id": "BWYfkzn3_daO"
      },
      "execution_count": 222,
      "outputs": []
    },
    {
      "cell_type": "code",
      "source": [
        "confusion_matrix(test_pred,test_y)"
      ],
      "metadata": {
        "colab": {
          "base_uri": "https://localhost:8080/"
        },
        "id": "VWUZXyxS_g16",
        "outputId": "4bc8e363-3170-481e-ef7f-c2ad57b7c95a"
      },
      "execution_count": 223,
      "outputs": [
        {
          "output_type": "execute_result",
          "data": {
            "text/plain": [
              "array([[2005,   89,    6,   30],\n",
              "       [ 128,  419,   10,   33],\n",
              "       [  10,    5,  123,    2],\n",
              "       [ 147,   59,    6,   94]])"
            ]
          },
          "metadata": {},
          "execution_count": 223
        }
      ]
    },
    {
      "cell_type": "code",
      "source": [
        "print(classification_report(test_pred,test_y,digits=5))"
      ],
      "metadata": {
        "colab": {
          "base_uri": "https://localhost:8080/"
        },
        "id": "1TqXspCo_kZv",
        "outputId": "866d5b07-0481-4c72-d2e2-e7d41dea4218"
      },
      "execution_count": 224,
      "outputs": [
        {
          "output_type": "stream",
          "name": "stdout",
          "text": [
            "              precision    recall  f1-score   support\n",
            "\n",
            "           0    0.87555   0.94131   0.90724      2130\n",
            "           1    0.73252   0.71017   0.72117       590\n",
            "           2    0.84828   0.87857   0.86316       140\n",
            "           3    0.59119   0.30719   0.40430       306\n",
            "\n",
            "    accuracy                        0.83418      3166\n",
            "   macro avg    0.76188   0.70931   0.72397      3166\n",
            "weighted avg    0.82020   0.83418   0.82201      3166\n",
            "\n"
          ]
        }
      ]
    },
    {
      "cell_type": "code",
      "source": [
        ""
      ],
      "metadata": {
        "id": "HdSKJops_ot_"
      },
      "execution_count": null,
      "outputs": []
    }
  ]
}